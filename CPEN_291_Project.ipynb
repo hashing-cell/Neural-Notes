{
  "nbformat": 4,
  "nbformat_minor": 0,
  "metadata": {
    "colab": {
      "name": "CPEN 291 Project.ipynb",
      "provenance": [],
      "collapsed_sections": []
    },
    "kernelspec": {
      "name": "python3",
      "display_name": "Python 3"
    },
    "language_info": {
      "name": "python"
    }
  },
  "cells": [
    {
      "cell_type": "code",
      "metadata": {
        "id": "yKHUqLY7s9AT"
      },
      "source": [
        "import torch, torchvision, PIL, numpy as np\n",
        "import pathlib\n",
        "import PIL\n",
        "import matplotlib.pyplot as plt\n",
        "import matplotlib.patches as patches\n",
        "import csv\n",
        "from tqdm.auto import tqdm\n",
        "import pandas as pd\n",
        "import pdb"
      ],
      "execution_count": 26,
      "outputs": []
    },
    {
      "cell_type": "code",
      "metadata": {
        "colab": {
          "base_uri": "https://localhost:8080/"
        },
        "id": "M8n0-G6ntiJH",
        "outputId": "3052ec51-9007-4981-99db-3fd79f45e73c"
      },
      "source": [
        "# You can get more datasets here https://repository.cloudlab.zhaw.ch/artifactory/deepscores/archives/2017/\n",
        "!wget https://tuggeluk.github.io/class_names/class_names_extended.csv\n",
        "!wget https://repository.cloudlab.zhaw.ch/artifactory/deepscores/ds_extended.zip\n"
      ],
      "execution_count": 33,
      "outputs": [
        {
          "output_type": "stream",
          "text": [
            "--2021-03-27 01:37:27--  https://tuggeluk.github.io/class_names/class_names_extended.csv\n",
            "Resolving tuggeluk.github.io (tuggeluk.github.io)... 185.199.108.153, 185.199.109.153, 185.199.110.153, ...\n",
            "Connecting to tuggeluk.github.io (tuggeluk.github.io)|185.199.108.153|:443... connected.\n",
            "HTTP request sent, awaiting response... 200 OK\n",
            "Length: 2566 (2.5K) [text/csv]\n",
            "Saving to: ‘class_names_extended.csv’\n",
            "\n",
            "\rclass_names_extende   0%[                    ]       0  --.-KB/s               \rclass_names_extende 100%[===================>]   2.51K  --.-KB/s    in 0s      \n",
            "\n",
            "2021-03-27 01:37:27 (56.0 MB/s) - ‘class_names_extended.csv’ saved [2566/2566]\n",
            "\n",
            "--2021-03-27 01:37:27--  https://repository.cloudlab.zhaw.ch/artifactory/deepscores/ds_extended.zip\n",
            "Resolving repository.cloudlab.zhaw.ch (repository.cloudlab.zhaw.ch)... 160.85.254.254\n",
            "Connecting to repository.cloudlab.zhaw.ch (repository.cloudlab.zhaw.ch)|160.85.254.254|:443... connected.\n",
            "HTTP request sent, awaiting response... 200 OK\n",
            "Length: 860045718 (820M) [application/zip]\n",
            "Saving to: ‘ds_extended.zip.1’\n",
            "\n",
            "ds_extended.zip.1    18%[==>                 ] 152.77M  24.4MB/s    eta 30s    ^C\n"
          ],
          "name": "stdout"
        }
      ]
    },
    {
      "cell_type": "code",
      "metadata": {
        "id": "w2Den4MDy-fh"
      },
      "source": [
        "!unzip ds_extended.zip -d music_dataset/"
      ],
      "execution_count": null,
      "outputs": []
    },
    {
      "cell_type": "code",
      "metadata": {
        "id": "uChT5Lc8P9DM"
      },
      "source": [
        "class_hashtable = {}\n",
        "datasetHash = pd.read_csv('/content/class_names_extended.csv')\n",
        "for i in range(len(datasetHash)):\n",
        "  class_hashtable[datasetHash['brace'][i]] = datasetHash['0'][i]"
      ],
      "execution_count": 34,
      "outputs": []
    },
    {
      "cell_type": "code",
      "metadata": {
        "id": "Xv46qXf13IBn"
      },
      "source": [
        "class ObjectDetectionDataset:\n",
        "    def __init__(self, root_dir, transform=None, transform_label=None):\n",
        "        from os import walk \n",
        "        root_dir = pathlib.Path(root_dir).resolve()\n",
        "        self.root_dir = root_dir\n",
        "        self.transform = transform\n",
        "        self.transform_label = transform_label\n",
        "        def parse_box_and_class(line, class_num):\n",
        "          line = line.replace(']', '').replace('[', '')\n",
        "          x_min, x_max, y_min, y_max = line.split()\n",
        "          return [int(class_num), float(x_min), float(y_min), float(x_max), float(y_max)]\n",
        "        fileList = [] # Get the names of all the files in the root directory\n",
        "        # Get all the csv files from meta_info\n",
        "        labels = []\n",
        "        for (dirpath, dirnames, filenames) in walk(root_dir):\n",
        "          for name in filenames:\n",
        "            if name.endswith('.csv'):\n",
        "              f = dirpath + '/' + name\n",
        "              fileList.append((name,f))\n",
        "        # Now iterate through the fileList\n",
        "        for name, file_name in fileList: \n",
        "          df = pd.read_csv(file_name)\n",
        "          for i in range(1, len(df.index)):\n",
        "            img_filename = df['file_name'][i].replace('.svg', '') + '.png'\n",
        "            music_symbol = name.replace('.csv', '')\n",
        "            if music_symbol in class_hashtable:\n",
        "              labels.append((img_filename, parse_box_and_class(df['bbox'][i], class_hashtable[music_symbol])))    \n",
        "        self.fns_labels = labels\n",
        "\n",
        "    def __len__(self):\n",
        "        # return the length of the dataset\n",
        "        return len(self.fns_labels)\n",
        "\n",
        "    def __getitem__(self, i):\n",
        "        if torch.is_tensor(i):\n",
        "            i = i.item()\n",
        "        imgfn, label = self.fns_labels[i]\n",
        "        # read the image from PILLOW library\n",
        "        img = PIL.Image.open('music_dataset/deep_scores_dense_extended/images_png/' + imgfn)\n",
        "        if self.transform:\n",
        "            # apply the transform to the image if it exists!\n",
        "            img = self.transform(img)\n",
        "        #if self.transform_label:\n",
        "            # same with the label, transform it! \n",
        "        #    label = self.transform_label(label)\n",
        "        return (img, label)"
      ],
      "execution_count": 142,
      "outputs": []
    },
    {
      "cell_type": "code",
      "metadata": {
        "id": "jmRBBeGLTw8k"
      },
      "source": [
        "def biggest_box_class(labels):\n",
        "    pass\n",
        "def biggest_box(labels):\n",
        "    pass"
      ],
      "execution_count": 132,
      "outputs": []
    },
    {
      "cell_type": "code",
      "metadata": {
        "id": "uqqDs0BCT9EE"
      },
      "source": [
        "dataset_dir = 'music_dataset/deep_scores_dense_extended/meta_info'"
      ],
      "execution_count": 133,
      "outputs": []
    },
    {
      "cell_type": "code",
      "metadata": {
        "id": "S47uAtQibRwX"
      },
      "source": [
        "def show_img(img, title=None):\n",
        "    if torch.is_tensor(img):\n",
        "        img = img.cpu().permute(1,2,0)\n",
        "    plt.imshow(img)\n",
        "    if title:\n",
        "        plt.title(title) # add color='w' arg if using a dark background\n",
        "    plt.axis('off')\n",
        "\n",
        "# show the image with the class title \n",
        "def show_img_class(sample, classes=None):\n",
        "    img, c = sample\n",
        "    if classes:\n",
        "        c = classes[c]\n",
        "    show_img(img, c)\n",
        "\n",
        "def show_boxes(sample, classes=None):\n",
        "    img, labels = sample\n",
        "    show_img(img)\n",
        "    ax = plt.gca()\n",
        "    xmin, xmax = ax.get_xlim()\n",
        "    ymax, ymin = ax.get_ylim()\n",
        "    isx, isy = xmax-xmin, ymax-ymin\n",
        "    kls, cx, cy, sx, sy = labels\n",
        "    print(labels)\n",
        "    if classes:\n",
        "      kls = classes[int(kls)]\n",
        "    box = patches.Rectangle((cx,cy), sx - cx, sy - cy, 0)\n",
        "    ax.add_patch(box)\n",
        "    plt.text(xmin + isx * (sx - cx / 2), ymin + isy * (sy + cy / 2), kls, backgroundcolor='r', c='w')"
      ],
      "execution_count": 156,
      "outputs": []
    },
    {
      "cell_type": "code",
      "metadata": {
        "id": "AUcAom8KD-nf"
      },
      "source": [
        "xform = torchvision.transforms.ToTensor()\n",
        "dataset_full_det = ObjectDetectionDataset(dataset_dir, transform=xform, transform_label=biggest_box)"
      ],
      "execution_count": 143,
      "outputs": []
    },
    {
      "cell_type": "code",
      "metadata": {
        "id": "Qxqfwr8BdgVw"
      },
      "source": [
        "class_hashtable_reversed = {}\n",
        "datasetHash = pd.read_csv('/content/class_names_extended.csv')\n",
        "for i in range(len(datasetHash)):\n",
        "  class_hashtable_reversed[datasetHash['0'][i]] = datasetHash['brace'][i] "
      ],
      "execution_count": 136,
      "outputs": []
    },
    {
      "cell_type": "code",
      "metadata": {
        "colab": {
          "base_uri": "https://localhost:8080/",
          "height": 305
        },
        "id": "d_FS4Uc3bYbc",
        "outputId": "15f97e75-4f1f-45c9-8b17-49221f626e5f"
      },
      "source": [
        "show_boxes(dataset_full_det[12], class_hashtable_reversed)"
      ],
      "execution_count": 157,
      "outputs": [
        {
          "output_type": "stream",
          "text": [
            "[133, 0.78728919, 0.77361737, 0.79493266, 0.7801951]\n"
          ],
          "name": "stdout"
        },
        {
          "output_type": "display_data",
          "data": {
            "image/png": "[encoded data removed]",
            "text/plain": [
              "<Figure size 432x288 with 1 Axes>"
            ]
          },
          "metadata": {
            "tags": [],
            "needs_background": "light"
          }
        }
      ]
    },
    {
      "cell_type": "code",
      "metadata": {
        "id": "uYh-q4v9oUrv"
      },
      "source": [
        "n_all_det = len(SOMEDATASET)\n",
        "n_used_det = int(1 * n_all_det)\n",
        "n_train_det = int(0.8 * n_used_det)\n",
        "n_test_det = n_used_det - n_train_det\n",
        "rng_det = torch.Generator().manual_seed(291)\n",
        "dataset_train_det, dataset_test_det, _ = torch.utils.data.random_split(SOMEDATASET, [n_train_det, n_test_det, n_all_det-n_train_det-n_test_det], rng_det)"
      ],
      "execution_count": null,
      "outputs": []
    }
  ]
}