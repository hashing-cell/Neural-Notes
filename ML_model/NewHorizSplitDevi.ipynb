{
  "nbformat": 4,
  "nbformat_minor": 0,
  "metadata": {
    "colab": {
      "name": "NewHorizSplitDevi.ipynb",
      "provenance": [],
      "collapsed_sections": []
    },
    "kernelspec": {
      "name": "python3",
      "display_name": "Python 3"
    },
    "language_info": {
      "name": "python"
    }
  },
  "cells": [
    {
      "cell_type": "code",
      "metadata": {
        "id": "w4sM7CZ0WHsZ"
      },
      "source": [
        "import torch, torchvision, PIL, numpy as np\n",
        "import pathlib\n",
        "import PIL\n",
        "import matplotlib.pyplot as plt\n",
        "import matplotlib.patches as patches\n",
        "import csv\n",
        "import pandas as pd\n",
        "import pdb\n",
        "import numpy as np\n",
        "import cv2\n",
        "import random\n",
        "import os\n",
        "from PIL import Image"
      ],
      "execution_count": 29,
      "outputs": []
    },
    {
      "cell_type": "code",
      "metadata": {
        "id": "lfTTNhYUWXYr"
      },
      "source": [
        "img = PIL.Image.open('/content/sample.png') #sample input"
      ],
      "execution_count": 30,
      "outputs": []
    },
    {
      "cell_type": "code",
      "metadata": {
        "id": "GdUhldC-WdQs"
      },
      "source": [
        "def horSplit(imgPath, oneChannel = False, devi = 0): #the bigger devi is, the more tolerance allowed for the pixel to be considered as the same color\n",
        "  imgg = Image.open(imgPath, 'r')\n",
        "  thePix = imgg.load()\n",
        "  pim = np.array(imgg)\n",
        "  hh, ww, nouse = pim.shape\n",
        "  ref = []\n",
        "\n",
        "  heightPix = [] #stores the height of col (belonging to)\n",
        "  h = 0\n",
        "  hash = [] #we are assuming the format of music score is uniform\n",
        "\n",
        "  row = []\n",
        "\n",
        "  white = thePix[0,0]\n",
        "\n",
        "  col = []\n",
        "\n",
        "  toReturn = []\n",
        "\n",
        "  for i in range(ww):\n",
        "    row.append(thePix[i,0]) #get first row\n",
        "\n",
        "  for i in range(hh):\n",
        "    col.append(0)\n",
        "\n",
        "  cc = 0\n",
        "  th = 0\n",
        "\n",
        "  for i in range(hh):\n",
        "    th = 0\n",
        "    for j in range(ww):\n",
        "      if (oneChannel):\n",
        "        if (thePix[j, i] != row[j]):\n",
        "          col[i] = 1\n",
        "          break\n",
        "      else:\n",
        "        for z in range(len(row[j])):\n",
        "          if (abs(thePix[j, i][z] - row[j][z]) > devi):\n",
        "            col[i] = 1\n",
        "            th = 1\n",
        "            break\n",
        "        if (th == 1):\n",
        "          break\n",
        "  \n",
        "  check = 0\n",
        "  ub = 0\n",
        "  lb = 0\n",
        "  group = []\n",
        "\n",
        "  for i in range(len(col)):\n",
        "    if (col[i] == 1 and check == 0):\n",
        "      check = 1\n",
        "      ub = i\n",
        "    elif (col[i] == 0 and check == 1):\n",
        "      check = 0\n",
        "      lb = i - 1\n",
        "      #print(ub)\n",
        "      #print(lb)\n",
        "      #print('\\n')\n",
        "      group.append((ub, lb)) #looks good\n",
        "  \n",
        "  conti = 0\n",
        "  length = 0\n",
        "  maxlength = 0\n",
        "  match = []\n",
        "\n",
        "  for i in range(hh):\n",
        "    match.append(0)\n",
        "\n",
        "  for i in range(hh):\n",
        "    if (col[i] == 1):\n",
        "      length = 0\n",
        "      condi = 0\n",
        "      maxlength = 0\n",
        "      for j in range(ww):\n",
        "        if (thePix[j, i] != white):\n",
        "          length += 1\n",
        "        else:\n",
        "          if (length > maxlength):\n",
        "            maxlength = length\n",
        "          length = 0\n",
        "        \n",
        "      if (maxlength > int(0.15 * ww)):\n",
        "          match[i] = 1\n",
        "\n",
        "  counter = 0\n",
        "  for i in range(len(group)):\n",
        "      counter = 0\n",
        "      upb = group[i][0]\n",
        "      lob = group[i][1]\n",
        "      for j in range(upb, lob + 1):\n",
        "        if (match[j] == 1):\n",
        "          counter += 1\n",
        "\n",
        "      if (counter >= 5):\n",
        "        copyImg = imgg.copy()\n",
        "        cropped = copyImg.crop((0, upb, ww, lob))\n",
        "        toReturn.append(cropped)\n",
        "\n",
        "    \n",
        "  return toReturn"
      ],
      "execution_count": 79,
      "outputs": []
    },
    {
      "cell_type": "code",
      "metadata": {
        "id": "DnwEovLws8bd"
      },
      "source": [
        "returned = horSplit('/content/19.png', devi = 20)"
      ],
      "execution_count": 80,
      "outputs": []
    },
    {
      "cell_type": "code",
      "metadata": {
        "colab": {
          "base_uri": "https://localhost:8080/",
          "height": 48
        },
        "id": "dZu1QAnXtXvi",
        "outputId": "4d1cde55-4d66-4c05-dcd2-b5335078b620"
      },
      "source": [
        "returned[0]"
      ],
      "execution_count": 81,
      "outputs": [
        {
          "output_type": "execute_result",
          "data": {
            "image/png": "[encoded data removed]",
            "text/plain": [
              "<PIL.Image.Image image mode=RGB size=280x31 at 0x7F1A06A1B050>"
            ]
          },
          "metadata": {
            "tags": []
          },
          "execution_count": 81
        }
      ]
    },
    {
      "cell_type": "code",
      "metadata": {
        "colab": {
          "base_uri": "https://localhost:8080/",
          "height": 57
        },
        "id": "kYmj3gn8U1Vx",
        "outputId": "7f176b2f-6809-47fb-a187-c65f78d6f8ad"
      },
      "source": [
        "returned[1]"
      ],
      "execution_count": 82,
      "outputs": [
        {
          "output_type": "execute_result",
          "data": {
            "image/png": "[encoded data removed]",
            "text/plain": [
              "<PIL.Image.Image image mode=RGB size=280x40 at 0x7F1A0292A8D0>"
            ]
          },
          "metadata": {
            "tags": []
          },
          "execution_count": 82
        }
      ]
    },
    {
      "cell_type": "code",
      "metadata": {
        "colab": {
          "base_uri": "https://localhost:8080/",
          "height": 49
        },
        "id": "g6fJBqt0l9EL",
        "outputId": "cc79648e-cacf-45e0-a0b0-790cc8dd2cb5"
      },
      "source": [
        "returned[2]"
      ],
      "execution_count": 84,
      "outputs": [
        {
          "output_type": "execute_result",
          "data": {
            "image/png": "[encoded data removed]",
            "text/plain": [
              "<PIL.Image.Image image mode=RGB size=280x32 at 0x7F1A0292A7D0>"
            ]
          },
          "metadata": {
            "tags": []
          },
          "execution_count": 84
        }
      ]
    },
    {
      "cell_type": "code",
      "metadata": {
        "colab": {
          "base_uri": "https://localhost:8080/"
        },
        "id": "HaxTb01pU3kE",
        "outputId": "3e8b56d1-9e52-4fc9-ea64-1bc0b05e225d"
      },
      "source": [
        "len(returned)"
      ],
      "execution_count": 83,
      "outputs": [
        {
          "output_type": "execute_result",
          "data": {
            "text/plain": [
              "3"
            ]
          },
          "metadata": {
            "tags": []
          },
          "execution_count": 83
        }
      ]
    }
  ]
}