{
  "nbformat": 4,
  "nbformat_minor": 0,
  "metadata": {
    "colab": {
      "name": "CPEN 291 Project.ipynb",
      "provenance": [],
      "collapsed_sections": []
    },
    "kernelspec": {
      "name": "python3",
      "display_name": "Python 3"
    },
    "language_info": {
      "name": "python"
    },
    "accelerator": "GPU"
  },
  "cells": [
    {
      "cell_type": "code",
      "metadata": {
        "id": "lrKy6xY7B6j5"
      },
      "source": [
        "# You can get more datasets here https://repository.cloudlab.zhaw.ch/artifactory/deepscores/archives/2017/\n",
        "\n",
        "!wget https://grfia.dlsi.ua.es/primus/packages/CameraPrIMuS.tgz\n",
        "!wget https://raw.githubusercontent.com/OMR-Research/tf-end-to-end/master/Data/vocabulary_semantic.txt\n",
        "!wget https://raw.githubusercontent.com/OMR-Research/tf-end-to-end/master/Data/train.txt\n",
        "!wget https://raw.githubusercontent.com/OMR-Research/tf-end-to-end/master/Data/test.txt"
      ],
      "execution_count": null,
      "outputs": []
    },
    {
      "cell_type": "code",
      "metadata": {
        "id": "w2Den4MDy-fh"
      },
      "source": [
        "!tar -xvf CameraPrIMuS.tgz \n",
        "#!tar -xvf primusCalvoRizoAppliedSciences2018.tgz "
      ],
      "execution_count": null,
      "outputs": []
    },
    {
      "cell_type": "code",
      "metadata": {
        "id": "e2de8AS6wUCh"
      },
      "source": [
        "import torch, torchvision, PIL, numpy as np\n",
        "import pathlib\n",
        "import PIL\n",
        "import matplotlib.pyplot as plt\n",
        "import matplotlib.patches as patches\n",
        "import csv\n",
        "import pandas as pd\n",
        "import pdb\n",
        "import numpy as np\n",
        "import cv2\n",
        "import random\n",
        "import crnn \n",
        "from tqdm.auto import tqdm\n",
        "import pdb"
      ],
      "execution_count": 2,
      "outputs": []
    },
    {
      "cell_type": "code",
      "metadata": {
        "id": "DT51mf9Sutvg"
      },
      "source": [
        "class MusicClassificationObject:\n",
        "\n",
        "  def __init__(self, dataset_dir, dataset_filenames, dictionary_path, transform=None, label_transform=None, distortions=False):\n",
        "        self.distortions = distortions\n",
        "        self.dataset_dir = dataset_dir\n",
        "        self.transform = transform \n",
        "        self.label_transform = label_transform\n",
        "\n",
        "        dataset_filenames = open(dataset_filenames,'r')\n",
        "        dataset_list = dataset_filenames.read().splitlines()\n",
        "        dataset_filenames.close()\n",
        "\n",
        "        self.current_idx = 0\n",
        "        # Dictionary\n",
        "        self.symbol2index = {}\n",
        "        self.index2symbol = {}\n",
        "            \n",
        "        dict_file = open(dictionary_path,'r')\n",
        "        dict_list = dict_file.read().splitlines()\n",
        "        word_idx = 0\n",
        "        for word in dict_list:\n",
        "          self.symbol2index[word] = word_idx\n",
        "          self.index2symbol[word_idx] = word\n",
        "          word_idx += 1 \n",
        "\n",
        "        dict_file.close()\n",
        "\n",
        "        self.dataset = self.createDataset(dataset_list)\n",
        "        self.vocabulary_size = len(self.symbol2index)\n",
        "  \n",
        "  def createDataset(self, dataset_list):\n",
        "    dataset = []\n",
        "    i = 0\n",
        "    for sample in dataset_list:\n",
        "      sample_filepath = self.dataset_dir + '/' + sample + '/' + sample\n",
        "      sample_semantic = sample_filepath + '.semantic'\n",
        "      sample_gt_file = open(sample_semantic, 'r')\n",
        "      sample_gt_plain = sample_gt_file.readline().split()\n",
        "      sample_gt_file.close()\n",
        "      # (img file name, all the notations sequentially related to the file)\n",
        "      dataset.append((sample_filepath + '.png', [self.symbol2index[lab] for lab in sample_gt_plain]))\n",
        "    return dataset\n",
        "\n",
        "  def __len__(self):\n",
        "    return len(self.dataset)\n",
        "  \n",
        "  def __getitem__(self, i):\n",
        "    if torch.is_tensor(i):\n",
        "        i = i.item()\n",
        "    imgfn, label = self.dataset[i]\n",
        "    img = PIL.Image.open(imgfn)\n",
        "    if self.transform:\n",
        "        img = self.transform(img)\n",
        "    return (img.type(torch.FloatTensor), torch.tensor(label))\n"
      ],
      "execution_count": 3,
      "outputs": []
    },
    {
      "cell_type": "code",
      "metadata": {
        "id": "vd_ME7pQ1QiC"
      },
      "source": [
        "img_height = 128\n",
        "xform = torchvision.transforms.Compose([torchvision.transforms.Resize(img_height), torchvision.transforms.ToTensor()])\n",
        "music_dataset = MusicClassificationObject('Corpus', 'train.txt', 'vocabulary_semantic.txt', xform)"
      ],
      "execution_count": 4,
      "outputs": []
    },
    {
      "cell_type": "code",
      "metadata": {
        "colab": {
          "base_uri": "https://localhost:8080/"
        },
        "id": "fpRUit6zPVHC",
        "outputId": "6ff2a072-5993-495c-df7d-43742fda715b"
      },
      "source": [
        "music_dataset[13]"
      ],
      "execution_count": 5,
      "outputs": [
        {
          "output_type": "execute_result",
          "data": {
            "text/plain": [
              "(tensor([[[0., 0., 0.,  ..., 0., 0., 0.],\n",
              "          [0., 0., 0.,  ..., 0., 0., 0.],\n",
              "          [0., 0., 0.,  ..., 0., 0., 0.],\n",
              "          ...,\n",
              "          [0., 0., 0.,  ..., 0., 0., 0.],\n",
              "          [0., 0., 0.,  ..., 0., 0., 0.],\n",
              "          [0., 0., 0.,  ..., 0., 0., 0.]]]),\n",
              " tensor([   1,  222, 1759,  250,    0, 1717, 1717,  402,    0,  820, 1741,  851,\n",
              "         1044,  604, 1623,    0,  820, 1741,  851, 1044,  604, 1623,    0, 1210,\n",
              "         1741, 1232, 1477, 1044,  604,    0]))"
            ]
          },
          "metadata": {
            "tags": []
          },
          "execution_count": 5
        }
      ]
    },
    {
      "cell_type": "code",
      "metadata": {
        "id": "kGPEixgWBreX"
      },
      "source": [
        "# Converts the dataset into compatiable batches without resizing the width\n",
        "def getBatch(dataset, start_index, batch_size):\n",
        "  max_image_width = 2153\n",
        "  img_channels = 1  \n",
        "  img_height = 128\n",
        "  batch_images = torch.ones([batch_size, img_channels, img_height, max_image_width]).type(torch.FloatTensor)*0\n",
        "  batch_dataset = []\n",
        "  for i in range(batch_size):\n",
        "    sample = dataset[i + start_index]\n",
        "    batch_images[i, :, :sample[0].shape[1], :sample[0].shape[2]] = sample[0]\n",
        "    batch_dataset.append((batch_images[i], sample[1]))\n",
        "  return batch_dataset"
      ],
      "execution_count": 6,
      "outputs": []
    },
    {
      "cell_type": "code",
      "metadata": {
        "colab": {
          "base_uri": "https://localhost:8080/"
        },
        "id": "Dwha6Q2eAppM",
        "outputId": "dddbfd75-332a-42e4-d558-a3ed16eadc43"
      },
      "source": [
        "batch = getBatch(music_dataset, 0, 16)\n",
        "sample, label = batch[0]\n",
        "print(label)"
      ],
      "execution_count": 7,
      "outputs": [
        {
          "output_type": "stream",
          "text": [
            "tensor([   1,  229, 1757,  236,    0,  687, 1280, 1303, 1303,  823,    0,  490,\n",
            "         490, 1727, 1727,    0, 1470, 1304,  853,  679,  501,    0,  490, 1599,\n",
            "        1727])\n"
          ],
          "name": "stdout"
        }
      ]
    },
    {
      "cell_type": "code",
      "metadata": {
        "id": "iDtm97Rb3wKt"
      },
      "source": [
        "def show_img(sample, title=None):\n",
        "    img, _ = sample\n",
        "    if torch.is_tensor(img):\n",
        "        img = img.cpu().permute(1,2,0)\n",
        "    plt.imshow(img[:,:,0])\n",
        "    if title:\n",
        "        plt.title(title) # add color='w' arg if using a dark background\n",
        "    plt.axis('off')"
      ],
      "execution_count": 8,
      "outputs": []
    },
    {
      "cell_type": "code",
      "metadata": {
        "colab": {
          "base_uri": "https://localhost:8080/",
          "height": 79
        },
        "id": "UGzjGE1f37RR",
        "outputId": "4ead1081-6d47-4a54-e3d8-88df03f0c2a7"
      },
      "source": [
        "show_img(music_dataset[15])"
      ],
      "execution_count": 56,
      "outputs": [
        {
          "output_type": "display_data",
          "data": {
            "image/png": "[encoded data removed]",
            "text/plain": [
              "<Figure size 432x288 with 1 Axes>"
            ]
          },
          "metadata": {
            "tags": [],
            "needs_background": "light"
          }
        }
      ]
    },
    {
      "cell_type": "code",
      "metadata": {
        "id": "uYh-q4v9oUrv"
      },
      "source": [
        "n_all_det = len(music_dataset)\n",
        "n_used_det = int(1 * n_all_det)\n",
        "n_train_det = int(0.8 * n_used_det)\n",
        "n_test_det = n_used_det - n_train_det\n",
        "rng_det = torch.Generator().manual_seed(291)\n",
        "dataset_train, dataset_test, _ = torch.utils.data.random_split(music_dataset, [n_train_det, n_test_det, n_all_det-n_train_det-n_test_det], rng_det)"
      ],
      "execution_count": 10,
      "outputs": []
    },
    {
      "cell_type": "code",
      "metadata": {
        "id": "MtE0jfeF3fzO"
      },
      "source": [
        "import torch.nn as nn\n",
        "\n",
        "# Taken from https://github.com/meijieru/crnn.pytorch\n",
        "\n",
        "class BidirectionalLSTM(nn.Module):\n",
        "\n",
        "    def __init__(self, nIn, nHidden, nOut):\n",
        "        super(BidirectionalLSTM, self).__init__()\n",
        "\n",
        "        self.rnn = nn.LSTM(nIn, nHidden, bidirectional=True)\n",
        "        self.embedding = nn.Linear(nHidden * 2, nOut)\n",
        "\n",
        "    def forward(self, input):\n",
        "        recurrent, _ = self.rnn(input)\n",
        "        T, b, h = recurrent.size()\n",
        "        t_rec = recurrent.view(T * b, h)\n",
        "\n",
        "        output = self.embedding(t_rec)  # [T * b, nOut]\n",
        "        output = output.view(T, b, -1)\n",
        "\n",
        "        return output\n",
        "\n",
        "\n",
        "class CRNN(nn.Module):\n",
        "\n",
        "    def __init__(self, imgH, nc, nclass, nh, n_rnn=2, leakyRelu=False):\n",
        "        super(CRNN, self).__init__()\n",
        "        assert imgH % 16 == 0, 'imgH has to be a multiple of 16'\n",
        "\n",
        "        ks = [3, 3, 3, 3, 3, 3, 2]\n",
        "        ps = [1, 1, 1, 1, 1, 1, 0]\n",
        "        ss = [1, 1, 1, 1, 1, 1, 1]\n",
        "        nm = [64, 128, 256, 256, 512, 512, 512]\n",
        "\n",
        "        cnn = nn.Sequential()\n",
        "\n",
        "        def convRelu(i, batchNormalization=False):\n",
        "            nIn = nc if i == 0 else nm[i - 1]\n",
        "            nOut = nm[i]\n",
        "            cnn.add_module('conv{0}'.format(i),\n",
        "                           nn.Conv2d(nIn, nOut, ks[i], ss[i], ps[i]))\n",
        "            if batchNormalization:\n",
        "                cnn.add_module('batchnorm{0}'.format(i), nn.BatchNorm2d(nOut))\n",
        "            if leakyRelu:\n",
        "                cnn.add_module('relu{0}'.format(i),\n",
        "                               nn.LeakyReLU(0.2, inplace=True))\n",
        "            else:\n",
        "                cnn.add_module('relu{0}'.format(i), nn.ReLU(True))\n",
        "\n",
        "        convRelu(0)\n",
        "        cnn.add_module('pooling{0}'.format(0), nn.MaxPool2d(2, 2))  # 64x16x64\n",
        "        convRelu(1)\n",
        "        cnn.add_module('pooling{0}'.format(1), nn.MaxPool2d(2, 2))  # 128x8x32\n",
        "        convRelu(2, True)\n",
        "        convRelu(3)\n",
        "        cnn.add_module('pooling{0}'.format(2),\n",
        "                       nn.MaxPool2d((2, 2), (2, 1), (0, 1)))  # 256x4x16\n",
        "        convRelu(4, True)\n",
        "        convRelu(5)\n",
        "        cnn.add_module('pooling{0}'.format(3),\n",
        "                       nn.MaxPool2d((2, 2), (2, 1), (0, 1)))  # 512x2x16\n",
        "        convRelu(6, True)  # 512x1x16\n",
        "\n",
        "        self.cnn = cnn\n",
        "        self.rnn = nn.Sequential(\n",
        "            BidirectionalLSTM(512, nh, nh),\n",
        "            BidirectionalLSTM(nh, nh, nclass))\n",
        "\n",
        "    def forward(self, input):\n",
        "        import pdb\n",
        "        pdb.set_trace()\n",
        "        # conv features\n",
        "        conv = self.cnn(input)\n",
        "        b, c, h, w = conv.size()\n",
        "        assert h == 1, \"the height of conv must be 1\"\n",
        "        conv = conv.squeeze(2)\n",
        "        conv = conv.permute(2, 0, 1)  # [w, b, c]\n",
        "\n",
        "        # rnn features\n",
        "        output = self.rnn(conv)\n",
        "\n",
        "        return output"
      ],
      "execution_count": 55,
      "outputs": []
    },
    {
      "cell_type": "code",
      "metadata": {
        "id": "nJ08lFNInBfw",
        "colab": {
          "base_uri": "https://localhost:8080/"
        },
        "outputId": "bdabc8df-529a-4b52-ff8b-8366d6f81954"
      },
      "source": [
        "model_det = CRNN(img_height, 1, music_dataset.vocabulary_size, 256)\n",
        "\n",
        "torch.nn.init.xavier_uniform_(torch.empty(256,256))\n",
        "device = torch.device('cuda:0')\n",
        "model_det.to(device)"
      ],
      "execution_count": 52,
      "outputs": [
        {
          "output_type": "execute_result",
          "data": {
            "text/plain": [
              "CRNN(\n",
              "  (cnn): Sequential(\n",
              "    (conv0): Conv2d(1, 64, kernel_size=(3, 3), stride=(1, 1), padding=(1, 1))\n",
              "    (relu0): ReLU(inplace=True)\n",
              "    (pooling0): MaxPool2d(kernel_size=2, stride=2, padding=0, dilation=1, ceil_mode=False)\n",
              "    (conv1): Conv2d(64, 128, kernel_size=(3, 3), stride=(1, 1), padding=(1, 1))\n",
              "    (relu1): ReLU(inplace=True)\n",
              "    (pooling1): MaxPool2d(kernel_size=2, stride=2, padding=0, dilation=1, ceil_mode=False)\n",
              "    (conv2): Conv2d(128, 256, kernel_size=(3, 3), stride=(1, 1), padding=(1, 1))\n",
              "    (batchnorm2): BatchNorm2d(256, eps=1e-05, momentum=0.1, affine=True, track_running_stats=True)\n",
              "    (relu2): ReLU(inplace=True)\n",
              "    (conv3): Conv2d(256, 256, kernel_size=(3, 3), stride=(1, 1), padding=(1, 1))\n",
              "    (relu3): ReLU(inplace=True)\n",
              "    (pooling2): MaxPool2d(kernel_size=(2, 2), stride=(2, 1), padding=(0, 1), dilation=1, ceil_mode=False)\n",
              "    (conv4): Conv2d(256, 512, kernel_size=(3, 3), stride=(1, 1), padding=(1, 1))\n",
              "    (batchnorm4): BatchNorm2d(512, eps=1e-05, momentum=0.1, affine=True, track_running_stats=True)\n",
              "    (relu4): ReLU(inplace=True)\n",
              "    (conv5): Conv2d(512, 512, kernel_size=(3, 3), stride=(1, 1), padding=(1, 1))\n",
              "    (relu5): ReLU(inplace=True)\n",
              "    (pooling3): MaxPool2d(kernel_size=(2, 2), stride=(2, 1), padding=(0, 1), dilation=1, ceil_mode=False)\n",
              "    (conv6): Conv2d(512, 512, kernel_size=(2, 2), stride=(1, 1))\n",
              "    (batchnorm6): BatchNorm2d(512, eps=1e-05, momentum=0.1, affine=True, track_running_stats=True)\n",
              "    (relu6): ReLU(inplace=True)\n",
              "  )\n",
              "  (rnn): Sequential(\n",
              "    (0): BidirectionalLSTM(\n",
              "      (rnn): LSTM(512, 256, bidirectional=True)\n",
              "      (embedding): Linear(in_features=512, out_features=256, bias=True)\n",
              "    )\n",
              "    (1): BidirectionalLSTM(\n",
              "      (rnn): LSTM(256, 256, bidirectional=True)\n",
              "      (embedding): Linear(in_features=512, out_features=1781, bias=True)\n",
              "    )\n",
              "  )\n",
              ")"
            ]
          },
          "metadata": {
            "tags": []
          },
          "execution_count": 52
        }
      ]
    },
    {
      "cell_type": "code",
      "metadata": {
        "id": "aT9nZE6N0Sbg"
      },
      "source": [
        "criterion_det = torch.nn.CTCLoss()\n",
        "optimizer_det = torch.optim.SGD(model_det.parameters(), lr=0.01)\n",
        "scheduler_det = torch.optim.lr_scheduler.StepLR(optimizer_det, step_size=5, gamma=0.1)"
      ],
      "execution_count": 14,
      "outputs": []
    },
    {
      "cell_type": "code",
      "metadata": {
        "id": "u1W9fhhQXsPL"
      },
      "source": [
        "def concatenate_labels(labels):\n",
        "    listLabels = []\n",
        "    for x in labels:\n",
        "      listLabels.append(x)\n",
        "    return torch.cat(listLabels, dim=0)"
      ],
      "execution_count": 13,
      "outputs": []
    },
    {
      "cell_type": "code",
      "metadata": {
        "id": "0bdYyPCM_TmT"
      },
      "source": [
        "def run_test_det(model, criterion, no_preds=False):\n",
        "    nsamples_test = len(dataset_test)\n",
        "    loss = 0\n",
        "    i = 0 \n",
        "    preds = []\n",
        "    model.eval()\n",
        "    with torch.no_grad():\n",
        "        while i < nsamples_test:\n",
        "          dataset = getBatch(dataset_test, i, 16)\n",
        "          target_lengths = []\n",
        "          input_lengths = []\n",
        "          labels = []\n",
        "          samples = []\n",
        "          # Here set the target and input lengths for the CTC loss function\n",
        "          for sample, label in dataset: \n",
        "            target_lengths.append(len(label))\n",
        "            input_lengths.append(sample.shape[2])\n",
        "            labels.append(label)\n",
        "            samples.append(sample)\n",
        "          loader_test = torch.utils.data.DataLoader(samples, batch_size=16, shuffle=False)\n",
        "          for data in loader_test:\n",
        "            opt.zero_grad()\n",
        "            samples = data.to(device)\n",
        "            outs = model(samples)\n",
        "            # Set-up the CTC loss function parameters \n",
        "            log_probs = torch.randn(input_length[0], 16, music_dataset.vocabulary_size, dtype=torch.float).log_softmax(2)\n",
        "            loss += criterion(log_probs, labels, input_lengths, target_lengths) * samples.size(0)\n",
        "            if not no_preds:\n",
        "                preds += outs.cpu().unbind()\n",
        "          i += 16\n",
        "    return loss / nsamples_test, preds\n",
        "\n",
        "def run_train_det(model, criterion, opt, sched):\n",
        "    nsamples_train = len(dataset_train)\n",
        "    loss_sofar = 0\n",
        "    i = 0 \n",
        "    model.train()\n",
        "    with torch.enable_grad():\n",
        "        while i < nsamples_train:\n",
        "          dataset = getBatch(dataset_train, i, 16)\n",
        "          target_lengths = []\n",
        "          input_lengths = []\n",
        "          labels = []\n",
        "          samples = []\n",
        "          # Here set the target and input lengths for the CTC loss function\n",
        "          for sample, label in dataset: \n",
        "            target_lengths.append(len(label))\n",
        "            input_lengths.append(sample.shape[2])\n",
        "            labels.append(label)\n",
        "            samples.append(sample)\n",
        "          loader_train = torch.utils.data.DataLoader(samples, batch_size=16, shuffle=False)\n",
        "          for data in loader_train:\n",
        "            opt.zero_grad()\n",
        "            samples = data.to(device)\n",
        "            outs = model(samples)\n",
        "            # Set-up the CTC loss function parameters \n",
        "            log_probs = torch.randn(input_length[0], 16, music_dataset.vocabulary_size, dtype=torch.float).log_softmax(2)\n",
        "            loss = criterion(log_probs, labels, input_lengths, target_lengths)\n",
        "            #loss.backward()\n",
        "            #opt.step()\n",
        "            loss_sofar += loss.item() * samples.size(0)\n",
        "          i += 16\n",
        "    sched.step()\n",
        "    return loss_sofar / nsamples_train\n",
        "\n",
        "def run_all_det(model, criterion, optimizer, scheduler, n_epochs):\n",
        "    for epoch in tqdm(range(n_epochs), desc='epochs'):\n",
        "        loss_train = run_train_det(model, criterion, optimizer, scheduler)\n",
        "        loss_test, _ = run_test_det(model, criterion, no_preds=True)\n",
        "        tqdm.write(f\"epoch {epoch+1}: train loss {loss_train:.4f}, test loss {loss_test:.4f}\")\n",
        "    return loss_test"
      ],
      "execution_count": 54,
      "outputs": []
    },
    {
      "cell_type": "code",
      "metadata": {
        "id": "FwVOPAtc_Xm3"
      },
      "source": [
        "run_all_det(model_det, criterion_det, optimizer_det, scheduler_det, 10)"
      ],
      "execution_count": null,
      "outputs": []
    }
  ]
}